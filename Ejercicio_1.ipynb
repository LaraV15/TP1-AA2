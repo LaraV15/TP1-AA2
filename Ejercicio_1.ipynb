{
  "nbformat": 4,
  "nbformat_minor": 0,
  "metadata": {
    "colab": {
      "provenance": [],
      "authorship_tag": "ABX9TyN1RQIHF1kb5KW9VIVVuBNc",
      "include_colab_link": true
    },
    "kernelspec": {
      "name": "python3",
      "display_name": "Python 3"
    },
    "language_info": {
      "name": "python"
    }
  },
  "cells": [
    {
      "cell_type": "markdown",
      "metadata": {
        "id": "view-in-github",
        "colab_type": "text"
      },
      "source": [
        "<a href=\"https://colab.research.google.com/github/LaraV15/TP1-AA2/blob/main/Ejercicio_1.ipynb\" target=\"_parent\"><img src=\"https://colab.research.google.com/assets/colab-badge.svg\" alt=\"Open In Colab\"/></a>"
      ]
    },
    {
      "cell_type": "markdown",
      "source": [
        "En este problema, se presenta un conjunto de datos que contiene información sobre el rendimiento académico de estudiantes universitarios, así como diversos factores que podrían influir en él. El objetivo es construir un modelo de regresión utilizando redes neuronales para predecir el índice de rendimiento académico de los estudiantes basado en las características proporcionadas."
      ],
      "metadata": {
        "id": "QDW8pXmE5T8I"
      }
    },
    {
      "cell_type": "markdown",
      "source": [
        "## Importamos las librerías"
      ],
      "metadata": {
        "id": "SPT0sAqN71LE"
      }
    },
    {
      "cell_type": "code",
      "source": [
        "import numpy as np\n",
        "import matplotlib.pyplot as plt\n",
        "import pandas as pd\n",
        "import tensorflow as tf\n",
        "from tensorflow.keras.models import Sequential\n",
        "from tensorflow.keras.layers import Dense, Input\n",
        "from sklearn.model_selection import train_test_split"
      ],
      "metadata": {
        "id": "H_jgRcKh5tLn"
      },
      "execution_count": 8,
      "outputs": []
    },
    {
      "cell_type": "code",
      "source": [
        "# Configurar para que TensorFlow utilice la GPU por defecto\n",
        "gpus = tf.config.experimental.list_physical_devices('GPU')\n",
        "if gpus:\n",
        "    try:\n",
        "        # Configurar para que TensorFlow asigne memoria dinámicamente\n",
        "        for gpu in gpus:\n",
        "            tf.config.experimental.set_memory_growth(gpu, True)\n",
        "        # Especificar la GPU por defecto\n",
        "        logical_gpus = tf.config.experimental.list_logical_devices('GPU')\n",
        "        print(len(gpus), \"Physical GPUs,\", len(logical_gpus), \"Logical GPUs\")\n",
        "    except RuntimeError as e:\n",
        "        # Manejar error\n",
        "        print(e)"
      ],
      "metadata": {
        "id": "QdGPV5Gw6UX-"
      },
      "execution_count": 5,
      "outputs": []
    },
    {
      "cell_type": "markdown",
      "source": [
        "## Análisis exploratorio"
      ],
      "metadata": {
        "id": "C9b2iWc38Aw8"
      }
    },
    {
      "cell_type": "code",
      "execution_count": 7,
      "metadata": {
        "colab": {
          "base_uri": "https://localhost:8080/"
        },
        "id": "LbnouFFz4buA",
        "outputId": "1d7a2167-a26d-4018-e353-f25dedfb330b"
      },
      "outputs": [
        {
          "output_type": "stream",
          "name": "stdout",
          "text": [
            "   Hours Studied  Previous Scores Extracurricular Activities  Sleep Hours  \\\n",
            "0              7               99                        Yes            9   \n",
            "1              4               82                         No            4   \n",
            "2              8               51                        Yes            7   \n",
            "3              5               52                        Yes            5   \n",
            "4              7               75                         No            8   \n",
            "\n",
            "   Sample Question Papers Practiced  Performance Index  \n",
            "0                                 1               91.0  \n",
            "1                                 2               65.0  \n",
            "2                                 2               45.0  \n",
            "3                                 2               36.0  \n",
            "4                                 5               66.0  \n"
          ]
        }
      ],
      "source": [
        "# Cargamos el dataset\n",
        "data = pd.read_csv('Student_Performance.csv')\n",
        "print(data.head())"
      ]
    },
    {
      "cell_type": "code",
      "source": [
        "# Dividir los datos en conjuntos de entrenamiento y prueba\n",
        "train_df, test_df = train_test_split(data, test_size=0.2, random_state=42)\n",
        "\n",
        "print(train_df.head())"
      ],
      "metadata": {
        "colab": {
          "base_uri": "https://localhost:8080/"
        },
        "id": "ZT2A0h8E8Y-6",
        "outputId": "9980bab3-31e3-4967-d86a-ea75ea546ad4"
      },
      "execution_count": 11,
      "outputs": [
        {
          "output_type": "stream",
          "name": "stdout",
          "text": [
            "      Hours Studied  Previous Scores Extracurricular Activities  Sleep Hours  \\\n",
            "9254              5               49                         No            7   \n",
            "1561              2               48                        Yes            7   \n",
            "1670              2               81                         No            7   \n",
            "6087              2               46                         No            6   \n",
            "6669              8               47                         No            9   \n",
            "\n",
            "      Sample Question Papers Practiced  Performance Index  \n",
            "9254                                 5               36.0  \n",
            "1561                                 6               25.0  \n",
            "1670                                 2               59.0  \n",
            "6087                                 1               22.0  \n",
            "6669                                 0               40.0  \n"
          ]
        }
      ]
    },
    {
      "cell_type": "code",
      "source": [
        "cols = train_df.columns\n",
        "\n",
        "for col in cols:\n",
        "    print(\"--------------------\")\n",
        "    print(\"Columna: \", col)\n",
        "    print(\"Cantidad de valores nulos: \", train_df[col].isnull().sum())\n",
        "    print(\"Cantidad de valores únicos: \", train_df[col].nunique())\n",
        "    print(\"Tipo de dato: \", train_df[col].dtype)\n",
        "    # Si no es numérica, continuar con la siguiente columna\n",
        "    if train_df[col].dtype == \"object\":\n",
        "        print(\"--------------------\")\n",
        "        continue\n",
        "    # Si es una columna categórica, mostrar la cantidad de veces que aparece cada valor\n",
        "    if train_df[col].nunique() < 10:\n",
        "        print(\"Valores únicos: \", train_df[col].unique())\n",
        "        print(\"Cantidad de veces que aparece cada valor: \", train_df[col].value_counts())\n",
        "    else:\n",
        "        # Si es una columna numérica, mostramos media, desvío estándar, mínimo, máximo...\n",
        "        print(\"Media: \", train_df[col].mean())\n",
        "        print(\"Desvío estándar: \", train_df[col].std())\n",
        "        print(\"Mínimo: \", train_df[col].min())\n",
        "        print(\"Máximo: \", train_df[col].max())\n",
        "    print(\"--------------------\")"
      ],
      "metadata": {
        "colab": {
          "base_uri": "https://localhost:8080/"
        },
        "id": "LlnuTcrb9ClP",
        "outputId": "e4c4ef30-6ae7-4eb2-f53e-9b58842775d4"
      },
      "execution_count": 12,
      "outputs": [
        {
          "output_type": "stream",
          "name": "stdout",
          "text": [
            "--------------------\n",
            "Columna:  Hours Studied\n",
            "Cantidad de valores nulos:  0\n",
            "Cantidad de valores únicos:  9\n",
            "Tipo de dato:  int64\n",
            "Valores únicos:  [5 2 8 3 9 4 6 1 7]\n",
            "Cantidad de veces que aparece cada valor:  Hours Studied\n",
            "1    937\n",
            "6    917\n",
            "9    894\n",
            "3    891\n",
            "7    889\n",
            "2    871\n",
            "8    869\n",
            "4    869\n",
            "5    863\n",
            "Name: count, dtype: int64\n",
            "--------------------\n",
            "--------------------\n",
            "Columna:  Previous Scores\n",
            "Cantidad de valores nulos:  0\n",
            "Cantidad de valores únicos:  60\n",
            "Tipo de dato:  int64\n",
            "Media:  69.531\n",
            "Desvío estándar:  17.343734881577706\n",
            "Mínimo:  40\n",
            "Máximo:  99\n",
            "--------------------\n",
            "--------------------\n",
            "Columna:  Extracurricular Activities\n",
            "Cantidad de valores nulos:  0\n",
            "Cantidad de valores únicos:  2\n",
            "Tipo de dato:  object\n",
            "--------------------\n",
            "--------------------\n",
            "Columna:  Sleep Hours\n",
            "Cantidad de valores nulos:  0\n",
            "Cantidad de valores únicos:  6\n",
            "Tipo de dato:  int64\n",
            "Valores únicos:  [7 6 9 4 5 8]\n",
            "Cantidad de veces que aparece cada valor:  Sleep Hours\n",
            "8    1437\n",
            "6    1341\n",
            "9    1327\n",
            "7    1326\n",
            "5    1290\n",
            "4    1279\n",
            "Name: count, dtype: int64\n",
            "--------------------\n",
            "--------------------\n",
            "Columna:  Sample Question Papers Practiced\n",
            "Cantidad de valores nulos:  0\n",
            "Cantidad de valores únicos:  10\n",
            "Tipo de dato:  int64\n",
            "Media:  4.6165\n",
            "Desvío estándar:  2.861241179564553\n",
            "Mínimo:  0\n",
            "Máximo:  9\n",
            "--------------------\n",
            "--------------------\n",
            "Columna:  Performance Index\n",
            "Cantidad de valores nulos:  0\n",
            "Cantidad de valores únicos:  91\n",
            "Tipo de dato:  float64\n",
            "Media:  55.3115\n",
            "Desvío estándar:  19.202058682136247\n",
            "Mínimo:  10.0\n",
            "Máximo:  100.0\n",
            "--------------------\n"
          ]
        }
      ]
    },
    {
      "cell_type": "code",
      "source": [
        "# Defino un diccionario para definir el tipo de dato de cada columna\n",
        "\n",
        "column_types = {\n",
        "    \"Hours Studied\": \"numeric\",\n",
        "    \"Previous Scores\": \"numeric\",\n",
        "    \"Extracurricular Activities\": \"categoric\",\n",
        "    \"Sleep Hours\": \"numeric\",\n",
        "    \"Sample Question Papers Practiced\": \"numeric\",\n",
        "}\n",
        "\n",
        "# Diccionario para almacenar media y desvío estándar de las columnas numéricas.\n",
        "# Me va a servir para realizar predicciones en el futuro.\n",
        "numeric_stats = {}\n",
        "\n",
        "# Diccionario para almacenar los valores únicos de las columnas categóricas.\n",
        "# Me va a servir para realizar predicciones en el futuro.\n",
        "categoric_values = {}\n",
        "\n",
        "preprocessed_train_df = pd.DataFrame()\n",
        "preprocessed_test_df = pd.DataFrame()\n",
        "\n",
        "# Preprocesamiento del set de entrenamiento\n",
        "for col in column_types.keys():\n",
        "    if column_types[col] == \"categoric\":\n",
        "        num_classes = train_df[col].nunique()\n",
        "        # Obtengo el one-hot encoding de la columna\n",
        "        one_hot = pd.get_dummies(train_df[col], prefix=col, dtype=np.float32)\n",
        "        # Agrego las columnas al dataset preprocesado\n",
        "        preprocessed_train_df = pd.concat([preprocessed_train_df, one_hot], axis=1)\n",
        "        # Almaceno los valores únicos\n",
        "        categoric_values[col] = train_df[col].unique()\n",
        "    else:\n",
        "        # Normalizo la columna\n",
        "        preprocessed_train_df[col] = (train_df[col] - train_df[col].mean()) / train_df[col].std()\n",
        "        # Almaceno media y desvío estándar\n",
        "        numeric_stats[col] = {\n",
        "            \"mean\": train_df[col].mean(),\n",
        "            \"std\": train_df[col].std()\n",
        "        }\n",
        "\n",
        "# Agrergo la columna \"Performance Index\" al dataset preprocesado\n",
        "preprocessed_train_df[\"Performance Index\"] = train_df[\"Performance Index\"]\n",
        "\n",
        "# Muestro las primeras filas del dataset preprocesado\n",
        "print(preprocessed_train_df.head())\n",
        "\n",
        "# Drop nan values\n",
        "preprocessed_train_df = preprocessed_train_df.dropna()\n",
        "\n",
        "# Defino los vectores X_train, y_train, X_test e y_test\n",
        "X_train = preprocessed_train_df.drop(\"Performance Index\", axis=1).values.astype(np.float32)\n",
        "y_train = preprocessed_train_df[\"Performance Index\"].values.astype(np.float32)\n",
        "\n",
        "print(X_train.shape, y_train.shape)\n"
      ],
      "metadata": {
        "colab": {
          "base_uri": "https://localhost:8080/"
        },
        "id": "4iUKDfow9UWQ",
        "outputId": "2d73bb29-9dfd-4c23-8415-ee9197e57261"
      },
      "execution_count": 14,
      "outputs": [
        {
          "output_type": "stream",
          "name": "stdout",
          "text": [
            "      Hours Studied  Previous Scores  Extracurricular Activities_No  \\\n",
            "9254       0.006455        -1.183770                            1.0   \n",
            "1561      -1.149676        -1.241428                            0.0   \n",
            "1670      -1.149676         0.661276                            1.0   \n",
            "6087      -1.149676        -1.356744                            1.0   \n",
            "6669       1.162586        -1.299086                            1.0   \n",
            "\n",
            "      Extracurricular Activities_Yes  Sleep Hours  \\\n",
            "9254                             0.0     0.269872   \n",
            "1561                             1.0     0.269872   \n",
            "1670                             0.0     0.269872   \n",
            "6087                             0.0    -0.318886   \n",
            "6669                             0.0     1.447386   \n",
            "\n",
            "      Sample Question Papers Practiced  Performance Index  \n",
            "9254                          0.134033               36.0  \n",
            "1561                          0.483531               25.0  \n",
            "1670                         -0.914463               59.0  \n",
            "6087                         -1.263962               22.0  \n",
            "6669                         -1.613461               40.0  \n",
            "(8000, 6) (8000,)\n"
          ]
        }
      ]
    },
    {
      "cell_type": "code",
      "source": [
        "model = Sequential([\n",
        "    Input(shape=(X_train.shape[1],)),\n",
        "    Dense(64, activation='relu'),\n",
        "    Dense(32, activation='relu'),\n",
        "    Dense(16, activation='relu'),\n",
        "    Dense(1, activation='sigmoid')\n",
        "])\n",
        "\n",
        "model.summary()\n",
        "\n",
        "model.compile(optimizer='adam', loss='binary_crossentropy', metrics=['accuracy'])\n",
        "\n",
        "model.fit(X_train, y_train, epochs=100, batch_size=32, validation_split=0.2)"
      ],
      "metadata": {
        "colab": {
          "base_uri": "https://localhost:8080/",
          "height": 1000
        },
        "id": "GDGV_lpU-duK",
        "outputId": "37e03986-2d87-444c-b92f-c873bc39b8b7"
      },
      "execution_count": 17,
      "outputs": [
        {
          "output_type": "display_data",
          "data": {
            "text/plain": [
              "\u001b[1mModel: \"sequential_1\"\u001b[0m\n"
            ],
            "text/html": [
              "<pre style=\"white-space:pre;overflow-x:auto;line-height:normal;font-family:Menlo,'DejaVu Sans Mono',consolas,'Courier New',monospace\"><span style=\"font-weight: bold\">Model: \"sequential_1\"</span>\n",
              "</pre>\n"
            ]
          },
          "metadata": {}
        },
        {
          "output_type": "display_data",
          "data": {
            "text/plain": [
              "┏━━━━━━━━━━━━━━━━━━━━━━━━━━━━━━━━━━━━━━┳━━━━━━━━━━━━━━━━━━━━━━━━━━━━━┳━━━━━━━━━━━━━━━━━┓\n",
              "┃\u001b[1m \u001b[0m\u001b[1mLayer (type)                        \u001b[0m\u001b[1m \u001b[0m┃\u001b[1m \u001b[0m\u001b[1mOutput Shape               \u001b[0m\u001b[1m \u001b[0m┃\u001b[1m \u001b[0m\u001b[1m        Param #\u001b[0m\u001b[1m \u001b[0m┃\n",
              "┡━━━━━━━━━━━━━━━━━━━━━━━━━━━━━━━━━━━━━━╇━━━━━━━━━━━━━━━━━━━━━━━━━━━━━╇━━━━━━━━━━━━━━━━━┩\n",
              "│ dense_3 (\u001b[38;5;33mDense\u001b[0m)                      │ (\u001b[38;5;45mNone\u001b[0m, \u001b[38;5;34m64\u001b[0m)                  │             \u001b[38;5;34m448\u001b[0m │\n",
              "├──────────────────────────────────────┼─────────────────────────────┼─────────────────┤\n",
              "│ dense_4 (\u001b[38;5;33mDense\u001b[0m)                      │ (\u001b[38;5;45mNone\u001b[0m, \u001b[38;5;34m32\u001b[0m)                  │           \u001b[38;5;34m2,080\u001b[0m │\n",
              "├──────────────────────────────────────┼─────────────────────────────┼─────────────────┤\n",
              "│ dense_5 (\u001b[38;5;33mDense\u001b[0m)                      │ (\u001b[38;5;45mNone\u001b[0m, \u001b[38;5;34m16\u001b[0m)                  │             \u001b[38;5;34m528\u001b[0m │\n",
              "├──────────────────────────────────────┼─────────────────────────────┼─────────────────┤\n",
              "│ dense_6 (\u001b[38;5;33mDense\u001b[0m)                      │ (\u001b[38;5;45mNone\u001b[0m, \u001b[38;5;34m1\u001b[0m)                   │              \u001b[38;5;34m17\u001b[0m │\n",
              "└──────────────────────────────────────┴─────────────────────────────┴─────────────────┘\n"
            ],
            "text/html": [
              "<pre style=\"white-space:pre;overflow-x:auto;line-height:normal;font-family:Menlo,'DejaVu Sans Mono',consolas,'Courier New',monospace\">┏━━━━━━━━━━━━━━━━━━━━━━━━━━━━━━━━━━━━━━┳━━━━━━━━━━━━━━━━━━━━━━━━━━━━━┳━━━━━━━━━━━━━━━━━┓\n",
              "┃<span style=\"font-weight: bold\"> Layer (type)                         </span>┃<span style=\"font-weight: bold\"> Output Shape                </span>┃<span style=\"font-weight: bold\">         Param # </span>┃\n",
              "┡━━━━━━━━━━━━━━━━━━━━━━━━━━━━━━━━━━━━━━╇━━━━━━━━━━━━━━━━━━━━━━━━━━━━━╇━━━━━━━━━━━━━━━━━┩\n",
              "│ dense_3 (<span style=\"color: #0087ff; text-decoration-color: #0087ff\">Dense</span>)                      │ (<span style=\"color: #00d7ff; text-decoration-color: #00d7ff\">None</span>, <span style=\"color: #00af00; text-decoration-color: #00af00\">64</span>)                  │             <span style=\"color: #00af00; text-decoration-color: #00af00\">448</span> │\n",
              "├──────────────────────────────────────┼─────────────────────────────┼─────────────────┤\n",
              "│ dense_4 (<span style=\"color: #0087ff; text-decoration-color: #0087ff\">Dense</span>)                      │ (<span style=\"color: #00d7ff; text-decoration-color: #00d7ff\">None</span>, <span style=\"color: #00af00; text-decoration-color: #00af00\">32</span>)                  │           <span style=\"color: #00af00; text-decoration-color: #00af00\">2,080</span> │\n",
              "├──────────────────────────────────────┼─────────────────────────────┼─────────────────┤\n",
              "│ dense_5 (<span style=\"color: #0087ff; text-decoration-color: #0087ff\">Dense</span>)                      │ (<span style=\"color: #00d7ff; text-decoration-color: #00d7ff\">None</span>, <span style=\"color: #00af00; text-decoration-color: #00af00\">16</span>)                  │             <span style=\"color: #00af00; text-decoration-color: #00af00\">528</span> │\n",
              "├──────────────────────────────────────┼─────────────────────────────┼─────────────────┤\n",
              "│ dense_6 (<span style=\"color: #0087ff; text-decoration-color: #0087ff\">Dense</span>)                      │ (<span style=\"color: #00d7ff; text-decoration-color: #00d7ff\">None</span>, <span style=\"color: #00af00; text-decoration-color: #00af00\">1</span>)                   │              <span style=\"color: #00af00; text-decoration-color: #00af00\">17</span> │\n",
              "└──────────────────────────────────────┴─────────────────────────────┴─────────────────┘\n",
              "</pre>\n"
            ]
          },
          "metadata": {}
        },
        {
          "output_type": "display_data",
          "data": {
            "text/plain": [
              "\u001b[1m Total params: \u001b[0m\u001b[38;5;34m3,073\u001b[0m (12.00 KB)\n"
            ],
            "text/html": [
              "<pre style=\"white-space:pre;overflow-x:auto;line-height:normal;font-family:Menlo,'DejaVu Sans Mono',consolas,'Courier New',monospace\"><span style=\"font-weight: bold\"> Total params: </span><span style=\"color: #00af00; text-decoration-color: #00af00\">3,073</span> (12.00 KB)\n",
              "</pre>\n"
            ]
          },
          "metadata": {}
        },
        {
          "output_type": "display_data",
          "data": {
            "text/plain": [
              "\u001b[1m Trainable params: \u001b[0m\u001b[38;5;34m3,073\u001b[0m (12.00 KB)\n"
            ],
            "text/html": [
              "<pre style=\"white-space:pre;overflow-x:auto;line-height:normal;font-family:Menlo,'DejaVu Sans Mono',consolas,'Courier New',monospace\"><span style=\"font-weight: bold\"> Trainable params: </span><span style=\"color: #00af00; text-decoration-color: #00af00\">3,073</span> (12.00 KB)\n",
              "</pre>\n"
            ]
          },
          "metadata": {}
        },
        {
          "output_type": "display_data",
          "data": {
            "text/plain": [
              "\u001b[1m Non-trainable params: \u001b[0m\u001b[38;5;34m0\u001b[0m (0.00 B)\n"
            ],
            "text/html": [
              "<pre style=\"white-space:pre;overflow-x:auto;line-height:normal;font-family:Menlo,'DejaVu Sans Mono',consolas,'Courier New',monospace\"><span style=\"font-weight: bold\"> Non-trainable params: </span><span style=\"color: #00af00; text-decoration-color: #00af00\">0</span> (0.00 B)\n",
              "</pre>\n"
            ]
          },
          "metadata": {}
        },
        {
          "output_type": "stream",
          "name": "stdout",
          "text": [
            "Epoch 1/100\n",
            "\u001b[1m200/200\u001b[0m \u001b[32m━━━━━━━━━━━━━━━━━━━━\u001b[0m\u001b[37m\u001b[0m \u001b[1m2s\u001b[0m 3ms/step - accuracy: 0.0000e+00 - loss: -1081.0416 - val_accuracy: 0.0000e+00 - val_loss: -31788.3848\n",
            "Epoch 2/100\n",
            "\u001b[1m200/200\u001b[0m \u001b[32m━━━━━━━━━━━━━━━━━━━━\u001b[0m\u001b[37m\u001b[0m \u001b[1m0s\u001b[0m 2ms/step - accuracy: 0.0000e+00 - loss: -118537.5938 - val_accuracy: 0.0000e+00 - val_loss: -744719.6250\n",
            "Epoch 3/100\n",
            "\u001b[1m200/200\u001b[0m \u001b[32m━━━━━━━━━━━━━━━━━━━━\u001b[0m\u001b[37m\u001b[0m \u001b[1m1s\u001b[0m 2ms/step - accuracy: 0.0000e+00 - loss: -1361558.2500 - val_accuracy: 0.0000e+00 - val_loss: -4238775.0000\n",
            "Epoch 4/100\n",
            "\u001b[1m200/200\u001b[0m \u001b[32m━━━━━━━━━━━━━━━━━━━━\u001b[0m\u001b[37m\u001b[0m \u001b[1m1s\u001b[0m 2ms/step - accuracy: 0.0000e+00 - loss: -6345863.0000 - val_accuracy: 0.0000e+00 - val_loss: -13775702.0000\n",
            "Epoch 5/100\n",
            "\u001b[1m200/200\u001b[0m \u001b[32m━━━━━━━━━━━━━━━━━━━━\u001b[0m\u001b[37m\u001b[0m \u001b[1m0s\u001b[0m 2ms/step - accuracy: 0.0000e+00 - loss: -18221920.0000 - val_accuracy: 0.0000e+00 - val_loss: -33332372.0000\n",
            "Epoch 6/100\n",
            "\u001b[1m200/200\u001b[0m \u001b[32m━━━━━━━━━━━━━━━━━━━━\u001b[0m\u001b[37m\u001b[0m \u001b[1m1s\u001b[0m 2ms/step - accuracy: 0.0000e+00 - loss: -41476856.0000 - val_accuracy: 0.0000e+00 - val_loss: -66978000.0000\n",
            "Epoch 7/100\n",
            "\u001b[1m200/200\u001b[0m \u001b[32m━━━━━━━━━━━━━━━━━━━━\u001b[0m\u001b[37m\u001b[0m \u001b[1m1s\u001b[0m 2ms/step - accuracy: 0.0000e+00 - loss: -79892640.0000 - val_accuracy: 0.0000e+00 - val_loss: -119818088.0000\n",
            "Epoch 8/100\n",
            "\u001b[1m200/200\u001b[0m \u001b[32m━━━━━━━━━━━━━━━━━━━━\u001b[0m\u001b[37m\u001b[0m \u001b[1m1s\u001b[0m 2ms/step - accuracy: 0.0000e+00 - loss: -138978960.0000 - val_accuracy: 0.0000e+00 - val_loss: -195927232.0000\n",
            "Epoch 9/100\n",
            "\u001b[1m200/200\u001b[0m \u001b[32m━━━━━━━━━━━━━━━━━━━━\u001b[0m\u001b[37m\u001b[0m \u001b[1m1s\u001b[0m 2ms/step - accuracy: 0.0000e+00 - loss: -227781424.0000 - val_accuracy: 0.0000e+00 - val_loss: -301162016.0000\n",
            "Epoch 10/100\n",
            "\u001b[1m200/200\u001b[0m \u001b[32m━━━━━━━━━━━━━━━━━━━━\u001b[0m\u001b[37m\u001b[0m \u001b[1m0s\u001b[0m 2ms/step - accuracy: 0.0000e+00 - loss: -341170656.0000 - val_accuracy: 0.0000e+00 - val_loss: -439325248.0000\n",
            "Epoch 11/100\n",
            "\u001b[1m200/200\u001b[0m \u001b[32m━━━━━━━━━━━━━━━━━━━━\u001b[0m\u001b[37m\u001b[0m \u001b[1m1s\u001b[0m 3ms/step - accuracy: 0.0000e+00 - loss: -488104032.0000 - val_accuracy: 0.0000e+00 - val_loss: -617745280.0000\n",
            "Epoch 12/100\n",
            "\u001b[1m200/200\u001b[0m \u001b[32m━━━━━━━━━━━━━━━━━━━━\u001b[0m\u001b[37m\u001b[0m \u001b[1m1s\u001b[0m 3ms/step - accuracy: 0.0000e+00 - loss: -688371136.0000 - val_accuracy: 0.0000e+00 - val_loss: -840027904.0000\n",
            "Epoch 13/100\n",
            "\u001b[1m200/200\u001b[0m \u001b[32m━━━━━━━━━━━━━━━━━━━━\u001b[0m\u001b[37m\u001b[0m \u001b[1m1s\u001b[0m 2ms/step - accuracy: 0.0000e+00 - loss: -931888832.0000 - val_accuracy: 0.0000e+00 - val_loss: -1113006208.0000\n",
            "Epoch 14/100\n",
            "\u001b[1m200/200\u001b[0m \u001b[32m━━━━━━━━━━━━━━━━━━━━\u001b[0m\u001b[37m\u001b[0m \u001b[1m1s\u001b[0m 2ms/step - accuracy: 0.0000e+00 - loss: -1198106624.0000 - val_accuracy: 0.0000e+00 - val_loss: -1440459264.0000\n",
            "Epoch 15/100\n",
            "\u001b[1m200/200\u001b[0m \u001b[32m━━━━━━━━━━━━━━━━━━━━\u001b[0m\u001b[37m\u001b[0m \u001b[1m1s\u001b[0m 2ms/step - accuracy: 0.0000e+00 - loss: -1582618880.0000 - val_accuracy: 0.0000e+00 - val_loss: -1823071104.0000\n",
            "Epoch 16/100\n",
            "\u001b[1m200/200\u001b[0m \u001b[32m━━━━━━━━━━━━━━━━━━━━\u001b[0m\u001b[37m\u001b[0m \u001b[1m1s\u001b[0m 2ms/step - accuracy: 0.0000e+00 - loss: -1948017920.0000 - val_accuracy: 0.0000e+00 - val_loss: -2270769664.0000\n",
            "Epoch 17/100\n",
            "\u001b[1m200/200\u001b[0m \u001b[32m━━━━━━━━━━━━━━━━━━━━\u001b[0m\u001b[37m\u001b[0m \u001b[1m0s\u001b[0m 2ms/step - accuracy: 0.0000e+00 - loss: -2462720256.0000 - val_accuracy: 0.0000e+00 - val_loss: -2784579328.0000\n",
            "Epoch 18/100\n",
            "\u001b[1m200/200\u001b[0m \u001b[32m━━━━━━━━━━━━━━━━━━━━\u001b[0m\u001b[37m\u001b[0m \u001b[1m0s\u001b[0m 2ms/step - accuracy: 0.0000e+00 - loss: -3016647936.0000 - val_accuracy: 0.0000e+00 - val_loss: -3370028032.0000\n",
            "Epoch 19/100\n",
            "\u001b[1m200/200\u001b[0m \u001b[32m━━━━━━━━━━━━━━━━━━━━\u001b[0m\u001b[37m\u001b[0m \u001b[1m1s\u001b[0m 2ms/step - accuracy: 0.0000e+00 - loss: -3587900160.0000 - val_accuracy: 0.0000e+00 - val_loss: -4031107840.0000\n",
            "Epoch 20/100\n",
            "\u001b[1m200/200\u001b[0m \u001b[32m━━━━━━━━━━━━━━━━━━━━\u001b[0m\u001b[37m\u001b[0m \u001b[1m1s\u001b[0m 2ms/step - accuracy: 0.0000e+00 - loss: -4319868928.0000 - val_accuracy: 0.0000e+00 - val_loss: -4775031808.0000\n",
            "Epoch 21/100\n",
            "\u001b[1m200/200\u001b[0m \u001b[32m━━━━━━━━━━━━━━━━━━━━\u001b[0m\u001b[37m\u001b[0m \u001b[1m1s\u001b[0m 2ms/step - accuracy: 0.0000e+00 - loss: -5037632512.0000 - val_accuracy: 0.0000e+00 - val_loss: -5602907136.0000\n",
            "Epoch 22/100\n",
            "\u001b[1m200/200\u001b[0m \u001b[32m━━━━━━━━━━━━━━━━━━━━\u001b[0m\u001b[37m\u001b[0m \u001b[1m1s\u001b[0m 2ms/step - accuracy: 0.0000e+00 - loss: -6034254848.0000 - val_accuracy: 0.0000e+00 - val_loss: -6520096768.0000\n",
            "Epoch 23/100\n",
            "\u001b[1m200/200\u001b[0m \u001b[32m━━━━━━━━━━━━━━━━━━━━\u001b[0m\u001b[37m\u001b[0m \u001b[1m1s\u001b[0m 2ms/step - accuracy: 0.0000e+00 - loss: -6815587328.0000 - val_accuracy: 0.0000e+00 - val_loss: -7532213760.0000\n",
            "Epoch 24/100\n",
            "\u001b[1m200/200\u001b[0m \u001b[32m━━━━━━━━━━━━━━━━━━━━\u001b[0m\u001b[37m\u001b[0m \u001b[1m1s\u001b[0m 2ms/step - accuracy: 0.0000e+00 - loss: -8054925312.0000 - val_accuracy: 0.0000e+00 - val_loss: -8642749440.0000\n",
            "Epoch 25/100\n",
            "\u001b[1m200/200\u001b[0m \u001b[32m━━━━━━━━━━━━━━━━━━━━\u001b[0m\u001b[37m\u001b[0m \u001b[1m1s\u001b[0m 2ms/step - accuracy: 0.0000e+00 - loss: -9115781120.0000 - val_accuracy: 0.0000e+00 - val_loss: -9859939328.0000\n",
            "Epoch 26/100\n",
            "\u001b[1m200/200\u001b[0m \u001b[32m━━━━━━━━━━━━━━━━━━━━\u001b[0m\u001b[37m\u001b[0m \u001b[1m0s\u001b[0m 2ms/step - accuracy: 0.0000e+00 - loss: -10484103168.0000 - val_accuracy: 0.0000e+00 - val_loss: -11185486848.0000\n",
            "Epoch 27/100\n",
            "\u001b[1m200/200\u001b[0m \u001b[32m━━━━━━━━━━━━━━━━━━━━\u001b[0m\u001b[37m\u001b[0m \u001b[1m1s\u001b[0m 2ms/step - accuracy: 0.0000e+00 - loss: -11796552704.0000 - val_accuracy: 0.0000e+00 - val_loss: -12622798848.0000\n",
            "Epoch 28/100\n",
            "\u001b[1m200/200\u001b[0m \u001b[32m━━━━━━━━━━━━━━━━━━━━\u001b[0m\u001b[37m\u001b[0m \u001b[1m1s\u001b[0m 2ms/step - accuracy: 0.0000e+00 - loss: -13228727296.0000 - val_accuracy: 0.0000e+00 - val_loss: -14177987584.0000\n",
            "Epoch 29/100\n",
            "\u001b[1m200/200\u001b[0m \u001b[32m━━━━━━━━━━━━━━━━━━━━\u001b[0m\u001b[37m\u001b[0m \u001b[1m1s\u001b[0m 2ms/step - accuracy: 0.0000e+00 - loss: -14974268416.0000 - val_accuracy: 0.0000e+00 - val_loss: -15856283648.0000\n",
            "Epoch 30/100\n",
            "\u001b[1m200/200\u001b[0m \u001b[32m━━━━━━━━━━━━━━━━━━━━\u001b[0m\u001b[37m\u001b[0m \u001b[1m1s\u001b[0m 3ms/step - accuracy: 0.0000e+00 - loss: -16493848576.0000 - val_accuracy: 0.0000e+00 - val_loss: -17668136960.0000\n",
            "Epoch 31/100\n",
            "\u001b[1m200/200\u001b[0m \u001b[32m━━━━━━━━━━━━━━━━━━━━\u001b[0m\u001b[37m\u001b[0m \u001b[1m1s\u001b[0m 3ms/step - accuracy: 0.0000e+00 - loss: -18423455744.0000 - val_accuracy: 0.0000e+00 - val_loss: -19605770240.0000\n",
            "Epoch 32/100\n",
            "\u001b[1m200/200\u001b[0m \u001b[32m━━━━━━━━━━━━━━━━━━━━\u001b[0m\u001b[37m\u001b[0m \u001b[1m1s\u001b[0m 2ms/step - accuracy: 0.0000e+00 - loss: -20662982656.0000 - val_accuracy: 0.0000e+00 - val_loss: -21685893120.0000\n",
            "Epoch 33/100\n",
            "\u001b[1m200/200\u001b[0m \u001b[32m━━━━━━━━━━━━━━━━━━━━\u001b[0m\u001b[37m\u001b[0m \u001b[1m1s\u001b[0m 2ms/step - accuracy: 0.0000e+00 - loss: -22610860032.0000 - val_accuracy: 0.0000e+00 - val_loss: -23915923456.0000\n",
            "Epoch 34/100\n",
            "\u001b[1m200/200\u001b[0m \u001b[32m━━━━━━━━━━━━━━━━━━━━\u001b[0m\u001b[37m\u001b[0m \u001b[1m1s\u001b[0m 2ms/step - accuracy: 0.0000e+00 - loss: -25229012992.0000 - val_accuracy: 0.0000e+00 - val_loss: -26287794176.0000\n",
            "Epoch 35/100\n",
            "\u001b[1m200/200\u001b[0m \u001b[32m━━━━━━━━━━━━━━━━━━━━\u001b[0m\u001b[37m\u001b[0m \u001b[1m1s\u001b[0m 2ms/step - accuracy: 0.0000e+00 - loss: -27463286784.0000 - val_accuracy: 0.0000e+00 - val_loss: -28819820544.0000\n",
            "Epoch 36/100\n",
            "\u001b[1m200/200\u001b[0m \u001b[32m━━━━━━━━━━━━━━━━━━━━\u001b[0m\u001b[37m\u001b[0m \u001b[1m1s\u001b[0m 2ms/step - accuracy: 0.0000e+00 - loss: -30108694528.0000 - val_accuracy: 0.0000e+00 - val_loss: -31503380480.0000\n",
            "Epoch 37/100\n",
            "\u001b[1m200/200\u001b[0m \u001b[32m━━━━━━━━━━━━━━━━━━━━\u001b[0m\u001b[37m\u001b[0m \u001b[1m1s\u001b[0m 2ms/step - accuracy: 0.0000e+00 - loss: -32564432896.0000 - val_accuracy: 0.0000e+00 - val_loss: -34362748928.0000\n",
            "Epoch 38/100\n",
            "\u001b[1m200/200\u001b[0m \u001b[32m━━━━━━━━━━━━━━━━━━━━\u001b[0m\u001b[37m\u001b[0m \u001b[1m1s\u001b[0m 2ms/step - accuracy: 0.0000e+00 - loss: -35813441536.0000 - val_accuracy: 0.0000e+00 - val_loss: -37394763776.0000\n",
            "Epoch 39/100\n",
            "\u001b[1m200/200\u001b[0m \u001b[32m━━━━━━━━━━━━━━━━━━━━\u001b[0m\u001b[37m\u001b[0m \u001b[1m1s\u001b[0m 2ms/step - accuracy: 0.0000e+00 - loss: -38472388608.0000 - val_accuracy: 0.0000e+00 - val_loss: -40598417408.0000\n",
            "Epoch 40/100\n",
            "\u001b[1m200/200\u001b[0m \u001b[32m━━━━━━━━━━━━━━━━━━━━\u001b[0m\u001b[37m\u001b[0m \u001b[1m0s\u001b[0m 2ms/step - accuracy: 0.0000e+00 - loss: -41762275328.0000 - val_accuracy: 0.0000e+00 - val_loss: -43993255936.0000\n",
            "Epoch 41/100\n",
            "\u001b[1m200/200\u001b[0m \u001b[32m━━━━━━━━━━━━━━━━━━━━\u001b[0m\u001b[37m\u001b[0m \u001b[1m1s\u001b[0m 2ms/step - accuracy: 0.0000e+00 - loss: -46471507968.0000 - val_accuracy: 0.0000e+00 - val_loss: -47573610496.0000\n",
            "Epoch 42/100\n",
            "\u001b[1m200/200\u001b[0m \u001b[32m━━━━━━━━━━━━━━━━━━━━\u001b[0m\u001b[37m\u001b[0m \u001b[1m1s\u001b[0m 2ms/step - accuracy: 0.0000e+00 - loss: -49350885376.0000 - val_accuracy: 0.0000e+00 - val_loss: -51333111808.0000\n",
            "Epoch 43/100\n",
            "\u001b[1m200/200\u001b[0m \u001b[32m━━━━━━━━━━━━━━━━━━━━\u001b[0m\u001b[37m\u001b[0m \u001b[1m1s\u001b[0m 2ms/step - accuracy: 0.0000e+00 - loss: -54039900160.0000 - val_accuracy: 0.0000e+00 - val_loss: -55306174464.0000\n",
            "Epoch 44/100\n",
            "\u001b[1m200/200\u001b[0m \u001b[32m━━━━━━━━━━━━━━━━━━━━\u001b[0m\u001b[37m\u001b[0m \u001b[1m1s\u001b[0m 2ms/step - accuracy: 0.0000e+00 - loss: -58416525312.0000 - val_accuracy: 0.0000e+00 - val_loss: -59479728128.0000\n",
            "Epoch 45/100\n",
            "\u001b[1m200/200\u001b[0m \u001b[32m━━━━━━━━━━━━━━━━━━━━\u001b[0m\u001b[37m\u001b[0m \u001b[1m0s\u001b[0m 2ms/step - accuracy: 0.0000e+00 - loss: -62821470208.0000 - val_accuracy: 0.0000e+00 - val_loss: -63867473920.0000\n",
            "Epoch 46/100\n",
            "\u001b[1m200/200\u001b[0m \u001b[32m━━━━━━━━━━━━━━━━━━━━\u001b[0m\u001b[37m\u001b[0m \u001b[1m1s\u001b[0m 2ms/step - accuracy: 0.0000e+00 - loss: -65415987200.0000 - val_accuracy: 0.0000e+00 - val_loss: -68480192512.0000\n",
            "Epoch 47/100\n",
            "\u001b[1m200/200\u001b[0m \u001b[32m━━━━━━━━━━━━━━━━━━━━\u001b[0m\u001b[37m\u001b[0m \u001b[1m1s\u001b[0m 2ms/step - accuracy: 0.0000e+00 - loss: -70983409664.0000 - val_accuracy: 0.0000e+00 - val_loss: -73323798528.0000\n",
            "Epoch 48/100\n",
            "\u001b[1m200/200\u001b[0m \u001b[32m━━━━━━━━━━━━━━━━━━━━\u001b[0m\u001b[37m\u001b[0m \u001b[1m1s\u001b[0m 3ms/step - accuracy: 0.0000e+00 - loss: -75844952064.0000 - val_accuracy: 0.0000e+00 - val_loss: -78383964160.0000\n",
            "Epoch 49/100\n",
            "\u001b[1m200/200\u001b[0m \u001b[32m━━━━━━━━━━━━━━━━━━━━\u001b[0m\u001b[37m\u001b[0m \u001b[1m1s\u001b[0m 4ms/step - accuracy: 0.0000e+00 - loss: -82598035456.0000 - val_accuracy: 0.0000e+00 - val_loss: -83684859904.0000\n",
            "Epoch 50/100\n",
            "\u001b[1m200/200\u001b[0m \u001b[32m━━━━━━━━━━━━━━━━━━━━\u001b[0m\u001b[37m\u001b[0m \u001b[1m1s\u001b[0m 3ms/step - accuracy: 0.0000e+00 - loss: -86996795392.0000 - val_accuracy: 0.0000e+00 - val_loss: -89226289152.0000\n",
            "Epoch 51/100\n",
            "\u001b[1m200/200\u001b[0m \u001b[32m━━━━━━━━━━━━━━━━━━━━\u001b[0m\u001b[37m\u001b[0m \u001b[1m1s\u001b[0m 2ms/step - accuracy: 0.0000e+00 - loss: -93602856960.0000 - val_accuracy: 0.0000e+00 - val_loss: -95042658304.0000\n",
            "Epoch 52/100\n",
            "\u001b[1m200/200\u001b[0m \u001b[32m━━━━━━━━━━━━━━━━━━━━\u001b[0m\u001b[37m\u001b[0m \u001b[1m0s\u001b[0m 2ms/step - accuracy: 0.0000e+00 - loss: -99441909760.0000 - val_accuracy: 0.0000e+00 - val_loss: -101098905600.0000\n",
            "Epoch 53/100\n",
            "\u001b[1m200/200\u001b[0m \u001b[32m━━━━━━━━━━━━━━━━━━━━\u001b[0m\u001b[37m\u001b[0m \u001b[1m0s\u001b[0m 2ms/step - accuracy: 0.0000e+00 - loss: -106311499776.0000 - val_accuracy: 0.0000e+00 - val_loss: -107433787392.0000\n",
            "Epoch 54/100\n",
            "\u001b[1m200/200\u001b[0m \u001b[32m━━━━━━━━━━━━━━━━━━━━\u001b[0m\u001b[37m\u001b[0m \u001b[1m1s\u001b[0m 2ms/step - accuracy: 0.0000e+00 - loss: -110994325504.0000 - val_accuracy: 0.0000e+00 - val_loss: -113996546048.0000\n",
            "Epoch 55/100\n",
            "\u001b[1m200/200\u001b[0m \u001b[32m━━━━━━━━━━━━━━━━━━━━\u001b[0m\u001b[37m\u001b[0m \u001b[1m1s\u001b[0m 2ms/step - accuracy: 0.0000e+00 - loss: -117081202688.0000 - val_accuracy: 0.0000e+00 - val_loss: -120876253184.0000\n",
            "Epoch 56/100\n",
            "\u001b[1m200/200\u001b[0m \u001b[32m━━━━━━━━━━━━━━━━━━━━\u001b[0m\u001b[37m\u001b[0m \u001b[1m1s\u001b[0m 2ms/step - accuracy: 0.0000e+00 - loss: -126171709440.0000 - val_accuracy: 0.0000e+00 - val_loss: -128051003392.0000\n",
            "Epoch 57/100\n",
            "\u001b[1m200/200\u001b[0m \u001b[32m━━━━━━━━━━━━━━━━━━━━\u001b[0m\u001b[37m\u001b[0m \u001b[1m1s\u001b[0m 2ms/step - accuracy: 0.0000e+00 - loss: -133733294080.0000 - val_accuracy: 0.0000e+00 - val_loss: -135488905216.0000\n",
            "Epoch 58/100\n",
            "\u001b[1m200/200\u001b[0m \u001b[32m━━━━━━━━━━━━━━━━━━━━\u001b[0m\u001b[37m\u001b[0m \u001b[1m1s\u001b[0m 2ms/step - accuracy: 0.0000e+00 - loss: -142373175296.0000 - val_accuracy: 0.0000e+00 - val_loss: -143243689984.0000\n",
            "Epoch 59/100\n",
            "\u001b[1m200/200\u001b[0m \u001b[32m━━━━━━━━━━━━━━━━━━━━\u001b[0m\u001b[37m\u001b[0m \u001b[1m1s\u001b[0m 2ms/step - accuracy: 0.0000e+00 - loss: -145363910656.0000 - val_accuracy: 0.0000e+00 - val_loss: -151293263872.0000\n",
            "Epoch 60/100\n",
            "\u001b[1m200/200\u001b[0m \u001b[32m━━━━━━━━━━━━━━━━━━━━\u001b[0m\u001b[37m\u001b[0m \u001b[1m1s\u001b[0m 2ms/step - accuracy: 0.0000e+00 - loss: -156852862976.0000 - val_accuracy: 0.0000e+00 - val_loss: -159685001216.0000\n",
            "Epoch 61/100\n",
            "\u001b[1m200/200\u001b[0m \u001b[32m━━━━━━━━━━━━━━━━━━━━\u001b[0m\u001b[37m\u001b[0m \u001b[1m0s\u001b[0m 2ms/step - accuracy: 0.0000e+00 - loss: -163311878144.0000 - val_accuracy: 0.0000e+00 - val_loss: -168401797120.0000\n",
            "Epoch 62/100\n",
            "\u001b[1m200/200\u001b[0m \u001b[32m━━━━━━━━━━━━━━━━━━━━\u001b[0m\u001b[37m\u001b[0m \u001b[1m1s\u001b[0m 2ms/step - accuracy: 0.0000e+00 - loss: -172704907264.0000 - val_accuracy: 0.0000e+00 - val_loss: -177412177920.0000\n",
            "Epoch 63/100\n",
            "\u001b[1m200/200\u001b[0m \u001b[32m━━━━━━━━━━━━━━━━━━━━\u001b[0m\u001b[37m\u001b[0m \u001b[1m1s\u001b[0m 2ms/step - accuracy: 0.0000e+00 - loss: -182702833664.0000 - val_accuracy: 0.0000e+00 - val_loss: -186769719296.0000\n",
            "Epoch 64/100\n",
            "\u001b[1m200/200\u001b[0m \u001b[32m━━━━━━━━━━━━━━━━━━━━\u001b[0m\u001b[37m\u001b[0m \u001b[1m1s\u001b[0m 2ms/step - accuracy: 0.0000e+00 - loss: -192664797184.0000 - val_accuracy: 0.0000e+00 - val_loss: -196490805248.0000\n",
            "Epoch 65/100\n",
            "\u001b[1m200/200\u001b[0m \u001b[32m━━━━━━━━━━━━━━━━━━━━\u001b[0m\u001b[37m\u001b[0m \u001b[1m0s\u001b[0m 2ms/step - accuracy: 0.0000e+00 - loss: -204526960640.0000 - val_accuracy: 0.0000e+00 - val_loss: -206541553664.0000\n",
            "Epoch 66/100\n",
            "\u001b[1m200/200\u001b[0m \u001b[32m━━━━━━━━━━━━━━━━━━━━\u001b[0m\u001b[37m\u001b[0m \u001b[1m0s\u001b[0m 2ms/step - accuracy: 0.0000e+00 - loss: -211845087232.0000 - val_accuracy: 0.0000e+00 - val_loss: -216975245312.0000\n",
            "Epoch 67/100\n",
            "\u001b[1m200/200\u001b[0m \u001b[32m━━━━━━━━━━━━━━━━━━━━\u001b[0m\u001b[37m\u001b[0m \u001b[1m1s\u001b[0m 2ms/step - accuracy: 0.0000e+00 - loss: -226580037632.0000 - val_accuracy: 0.0000e+00 - val_loss: -227754328064.0000\n",
            "Epoch 68/100\n",
            "\u001b[1m200/200\u001b[0m \u001b[32m━━━━━━━━━━━━━━━━━━━━\u001b[0m\u001b[37m\u001b[0m \u001b[1m1s\u001b[0m 3ms/step - accuracy: 0.0000e+00 - loss: -236064161792.0000 - val_accuracy: 0.0000e+00 - val_loss: -238901592064.0000\n",
            "Epoch 69/100\n",
            "\u001b[1m200/200\u001b[0m \u001b[32m━━━━━━━━━━━━━━━━━━━━\u001b[0m\u001b[37m\u001b[0m \u001b[1m1s\u001b[0m 3ms/step - accuracy: 0.0000e+00 - loss: -245258698752.0000 - val_accuracy: 0.0000e+00 - val_loss: -250440597504.0000\n",
            "Epoch 70/100\n",
            "\u001b[1m200/200\u001b[0m \u001b[32m━━━━━━━━━━━━━━━━━━━━\u001b[0m\u001b[37m\u001b[0m \u001b[1m1s\u001b[0m 3ms/step - accuracy: 0.0000e+00 - loss: -256698105856.0000 - val_accuracy: 0.0000e+00 - val_loss: -262371606528.0000\n",
            "Epoch 71/100\n",
            "\u001b[1m200/200\u001b[0m \u001b[32m━━━━━━━━━━━━━━━━━━━━\u001b[0m\u001b[37m\u001b[0m \u001b[1m1s\u001b[0m 2ms/step - accuracy: 0.0000e+00 - loss: -271059009536.0000 - val_accuracy: 0.0000e+00 - val_loss: -274711248896.0000\n",
            "Epoch 72/100\n",
            "\u001b[1m200/200\u001b[0m \u001b[32m━━━━━━━━━━━━━━━━━━━━\u001b[0m\u001b[37m\u001b[0m \u001b[1m1s\u001b[0m 2ms/step - accuracy: 0.0000e+00 - loss: -283297447936.0000 - val_accuracy: 0.0000e+00 - val_loss: -287393808384.0000\n",
            "Epoch 73/100\n",
            "\u001b[1m200/200\u001b[0m \u001b[32m━━━━━━━━━━━━━━━━━━━━\u001b[0m\u001b[37m\u001b[0m \u001b[1m1s\u001b[0m 2ms/step - accuracy: 0.0000e+00 - loss: -295202914304.0000 - val_accuracy: 0.0000e+00 - val_loss: -300582535168.0000\n",
            "Epoch 74/100\n",
            "\u001b[1m200/200\u001b[0m \u001b[32m━━━━━━━━━━━━━━━━━━━━\u001b[0m\u001b[37m\u001b[0m \u001b[1m1s\u001b[0m 2ms/step - accuracy: 0.0000e+00 - loss: -309672738816.0000 - val_accuracy: 0.0000e+00 - val_loss: -314130628608.0000\n",
            "Epoch 75/100\n",
            "\u001b[1m200/200\u001b[0m \u001b[32m━━━━━━━━━━━━━━━━━━━━\u001b[0m\u001b[37m\u001b[0m \u001b[1m1s\u001b[0m 2ms/step - accuracy: 0.0000e+00 - loss: -324477616128.0000 - val_accuracy: 0.0000e+00 - val_loss: -328129216512.0000\n",
            "Epoch 76/100\n",
            "\u001b[1m200/200\u001b[0m \u001b[32m━━━━━━━━━━━━━━━━━━━━\u001b[0m\u001b[37m\u001b[0m \u001b[1m0s\u001b[0m 2ms/step - accuracy: 0.0000e+00 - loss: -332175376384.0000 - val_accuracy: 0.0000e+00 - val_loss: -342561718272.0000\n",
            "Epoch 77/100\n",
            "\u001b[1m200/200\u001b[0m \u001b[32m━━━━━━━━━━━━━━━━━━━━\u001b[0m\u001b[37m\u001b[0m \u001b[1m0s\u001b[0m 2ms/step - accuracy: 0.0000e+00 - loss: -348766699520.0000 - val_accuracy: 0.0000e+00 - val_loss: -357466013696.0000\n",
            "Epoch 78/100\n",
            "\u001b[1m200/200\u001b[0m \u001b[32m━━━━━━━━━━━━━━━━━━━━\u001b[0m\u001b[37m\u001b[0m \u001b[1m1s\u001b[0m 2ms/step - accuracy: 0.0000e+00 - loss: -368562143232.0000 - val_accuracy: 0.0000e+00 - val_loss: -372788690944.0000\n",
            "Epoch 79/100\n",
            "\u001b[1m200/200\u001b[0m \u001b[32m━━━━━━━━━━━━━━━━━━━━\u001b[0m\u001b[37m\u001b[0m \u001b[1m1s\u001b[0m 2ms/step - accuracy: 0.0000e+00 - loss: -386497871872.0000 - val_accuracy: 0.0000e+00 - val_loss: -388583882752.0000\n",
            "Epoch 80/100\n",
            "\u001b[1m200/200\u001b[0m \u001b[32m━━━━━━━━━━━━━━━━━━━━\u001b[0m\u001b[37m\u001b[0m \u001b[1m1s\u001b[0m 2ms/step - accuracy: 0.0000e+00 - loss: -393819095040.0000 - val_accuracy: 0.0000e+00 - val_loss: -404827078656.0000\n",
            "Epoch 81/100\n",
            "\u001b[1m200/200\u001b[0m \u001b[32m━━━━━━━━━━━━━━━━━━━━\u001b[0m\u001b[37m\u001b[0m \u001b[1m1s\u001b[0m 2ms/step - accuracy: 0.0000e+00 - loss: -419193290752.0000 - val_accuracy: 0.0000e+00 - val_loss: -421599576064.0000\n",
            "Epoch 82/100\n",
            "\u001b[1m200/200\u001b[0m \u001b[32m━━━━━━━━━━━━━━━━━━━━\u001b[0m\u001b[37m\u001b[0m \u001b[1m1s\u001b[0m 2ms/step - accuracy: 0.0000e+00 - loss: -429651001344.0000 - val_accuracy: 0.0000e+00 - val_loss: -438874406912.0000\n",
            "Epoch 83/100\n",
            "\u001b[1m200/200\u001b[0m \u001b[32m━━━━━━━━━━━━━━━━━━━━\u001b[0m\u001b[37m\u001b[0m \u001b[1m1s\u001b[0m 2ms/step - accuracy: 0.0000e+00 - loss: -450291826688.0000 - val_accuracy: 0.0000e+00 - val_loss: -456606777344.0000\n",
            "Epoch 84/100\n",
            "\u001b[1m200/200\u001b[0m \u001b[32m━━━━━━━━━━━━━━━━━━━━\u001b[0m\u001b[37m\u001b[0m \u001b[1m0s\u001b[0m 2ms/step - accuracy: 0.0000e+00 - loss: -462661615616.0000 - val_accuracy: 0.0000e+00 - val_loss: -474850295808.0000\n",
            "Epoch 85/100\n",
            "\u001b[1m200/200\u001b[0m \u001b[32m━━━━━━━━━━━━━━━━━━━━\u001b[0m\u001b[37m\u001b[0m \u001b[1m1s\u001b[0m 2ms/step - accuracy: 0.0000e+00 - loss: -491454758912.0000 - val_accuracy: 0.0000e+00 - val_loss: -493644120064.0000\n",
            "Epoch 86/100\n",
            "\u001b[1m200/200\u001b[0m \u001b[32m━━━━━━━━━━━━━━━━━━━━\u001b[0m\u001b[37m\u001b[0m \u001b[1m1s\u001b[0m 2ms/step - accuracy: 0.0000e+00 - loss: -509296607232.0000 - val_accuracy: 0.0000e+00 - val_loss: -512917372928.0000\n",
            "Epoch 87/100\n",
            "\u001b[1m200/200\u001b[0m \u001b[32m━━━━━━━━━━━━━━━━━━━━\u001b[0m\u001b[37m\u001b[0m \u001b[1m1s\u001b[0m 3ms/step - accuracy: 0.0000e+00 - loss: -539985182720.0000 - val_accuracy: 0.0000e+00 - val_loss: -532751450112.0000\n",
            "Epoch 88/100\n",
            "\u001b[1m200/200\u001b[0m \u001b[32m━━━━━━━━━━━━━━━━━━━━\u001b[0m\u001b[37m\u001b[0m \u001b[1m1s\u001b[0m 3ms/step - accuracy: 0.0000e+00 - loss: -549361352704.0000 - val_accuracy: 0.0000e+00 - val_loss: -553097166848.0000\n",
            "Epoch 89/100\n",
            "\u001b[1m200/200\u001b[0m \u001b[32m━━━━━━━━━━━━━━━━━━━━\u001b[0m\u001b[37m\u001b[0m \u001b[1m1s\u001b[0m 4ms/step - accuracy: 0.0000e+00 - loss: -578143780864.0000 - val_accuracy: 0.0000e+00 - val_loss: -574023335936.0000\n",
            "Epoch 90/100\n",
            "\u001b[1m200/200\u001b[0m \u001b[32m━━━━━━━━━━━━━━━━━━━━\u001b[0m\u001b[37m\u001b[0m \u001b[1m1s\u001b[0m 2ms/step - accuracy: 0.0000e+00 - loss: -591142584320.0000 - val_accuracy: 0.0000e+00 - val_loss: -595433357312.0000\n",
            "Epoch 91/100\n",
            "\u001b[1m200/200\u001b[0m \u001b[32m━━━━━━━━━━━━━━━━━━━━\u001b[0m\u001b[37m\u001b[0m \u001b[1m0s\u001b[0m 2ms/step - accuracy: 0.0000e+00 - loss: -604950036480.0000 - val_accuracy: 0.0000e+00 - val_loss: -617494478848.0000\n",
            "Epoch 92/100\n",
            "\u001b[1m200/200\u001b[0m \u001b[32m━━━━━━━━━━━━━━━━━━━━\u001b[0m\u001b[37m\u001b[0m \u001b[1m1s\u001b[0m 2ms/step - accuracy: 0.0000e+00 - loss: -642621964288.0000 - val_accuracy: 0.0000e+00 - val_loss: -640179568640.0000\n",
            "Epoch 93/100\n",
            "\u001b[1m200/200\u001b[0m \u001b[32m━━━━━━━━━━━━━━━━━━━━\u001b[0m\u001b[37m\u001b[0m \u001b[1m1s\u001b[0m 2ms/step - accuracy: 0.0000e+00 - loss: -655213330432.0000 - val_accuracy: 0.0000e+00 - val_loss: -663392616448.0000\n",
            "Epoch 94/100\n",
            "\u001b[1m200/200\u001b[0m \u001b[32m━━━━━━━━━━━━━━━━━━━━\u001b[0m\u001b[37m\u001b[0m \u001b[1m1s\u001b[0m 2ms/step - accuracy: 0.0000e+00 - loss: -675968843776.0000 - val_accuracy: 0.0000e+00 - val_loss: -687208726528.0000\n",
            "Epoch 95/100\n",
            "\u001b[1m200/200\u001b[0m \u001b[32m━━━━━━━━━━━━━━━━━━━━\u001b[0m\u001b[37m\u001b[0m \u001b[1m1s\u001b[0m 2ms/step - accuracy: 0.0000e+00 - loss: -694428893184.0000 - val_accuracy: 0.0000e+00 - val_loss: -711645462528.0000\n",
            "Epoch 96/100\n",
            "\u001b[1m200/200\u001b[0m \u001b[32m━━━━━━━━━━━━━━━━━━━━\u001b[0m\u001b[37m\u001b[0m \u001b[1m1s\u001b[0m 2ms/step - accuracy: 0.0000e+00 - loss: -735049875456.0000 - val_accuracy: 0.0000e+00 - val_loss: -736687357952.0000\n",
            "Epoch 97/100\n",
            "\u001b[1m200/200\u001b[0m \u001b[32m━━━━━━━━━━━━━━━━━━━━\u001b[0m\u001b[37m\u001b[0m \u001b[1m1s\u001b[0m 2ms/step - accuracy: 0.0000e+00 - loss: -766045388800.0000 - val_accuracy: 0.0000e+00 - val_loss: -762398900224.0000\n",
            "Epoch 98/100\n",
            "\u001b[1m200/200\u001b[0m \u001b[32m━━━━━━━━━━━━━━━━━━━━\u001b[0m\u001b[37m\u001b[0m \u001b[1m1s\u001b[0m 2ms/step - accuracy: 0.0000e+00 - loss: -795119779840.0000 - val_accuracy: 0.0000e+00 - val_loss: -788630798336.0000\n",
            "Epoch 99/100\n",
            "\u001b[1m200/200\u001b[0m \u001b[32m━━━━━━━━━━━━━━━━━━━━\u001b[0m\u001b[37m\u001b[0m \u001b[1m1s\u001b[0m 2ms/step - accuracy: 0.0000e+00 - loss: -809968205824.0000 - val_accuracy: 0.0000e+00 - val_loss: -815611576320.0000\n",
            "Epoch 100/100\n",
            "\u001b[1m200/200\u001b[0m \u001b[32m━━━━━━━━━━━━━━━━━━━━\u001b[0m\u001b[37m\u001b[0m \u001b[1m0s\u001b[0m 2ms/step - accuracy: 0.0000e+00 - loss: -845176504320.0000 - val_accuracy: 0.0000e+00 - val_loss: -843181129728.0000\n"
          ]
        },
        {
          "output_type": "execute_result",
          "data": {
            "text/plain": [
              "<keras.src.callbacks.history.History at 0x7c793019ad70>"
            ]
          },
          "metadata": {},
          "execution_count": 17
        }
      ]
    }
  ]
}